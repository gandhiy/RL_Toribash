{
 "cells": [
  {
   "cell_type": "code",
   "execution_count": 199,
   "metadata": {},
   "outputs": [
    {
     "name": "stdout",
     "output_type": "stream",
     "text": [
      "The autoreload extension is already loaded. To reload it, use:\n",
      "  %reload_ext autoreload\n"
     ]
    }
   ],
   "source": [
    "%load_ext autoreload\n",
    "%autoreload 2"
   ]
  },
  {
   "cell_type": "code",
   "execution_count": 203,
   "metadata": {},
   "outputs": [],
   "source": [
    "import os\n",
    "import sys\n",
    "sys.path.append(\"..\")\n",
    "import gym\n",
    "import pickle\n",
    "import numpy as np\n",
    "import pandas as pd\n",
    "import gym_Toribash\n",
    "import matplotlib.pyplot as plt\n",
    "\n",
    "\n",
    "\n",
    "from gym import spaces\n",
    "from time import sleep\n",
    "from scipy import stats\n",
    "from torille import ToribashControl\n",
    "from torille import constants\n",
    "from hmmlearn import hmm\n",
    "from itertools import product\n",
    "from utils.tools import *\n",
    "from stable_baselines import PPO1\n",
    "from utils.stochastic_measure import stochastic_measure\n",
    "from stable_baselines.common.policies import MlpPolicy\n",
    "from stable_baselines.common.vec_env import DummyVecEnv\n",
    "\n",
    "plt.style.use(\"fivethirtyeight\")"
   ]
  },
  {
   "cell_type": "code",
   "execution_count": 141,
   "metadata": {},
   "outputs": [
    {
     "name": "stdout",
     "output_type": "stream",
     "text": [
      "Loading a model without an environment, this model cannot be trained until it has a valid environment.\n"
     ]
    }
   ],
   "source": [
    "ENV_DICT = \"../models/tight_range_continuous_actions_configs_dict.pkl\"\n",
    "MODEL = \"../models/tight_range_continuous_actions.pkl\"\n",
    "with open(ENV_DICT, 'rb') as f:\n",
    "    env_dict = pickle.load(f)\n",
    "env_id = env_dict['env_name']\n",
    "env = gym.make(env_id)\n",
    "env.init(**env_dict)\n",
    "model = PPO1.load(MODEL)\n",
    "env.set_draw_game(True)\n",
    "obs = env.reset()"
   ]
  },
  {
   "cell_type": "code",
   "execution_count": 142,
   "metadata": {},
   "outputs": [],
   "source": [
    "game_info = []\n",
    "for n_games in range(50):\n",
    "    sleep(1)\n",
    "    eps_info = []\n",
    "    for _ in range(50): # number of games = steps//50 i.e. 150//50 is 3 games\n",
    "        action, _states = model.predict(obs)\n",
    "        obs, rewards, dones, info = env.step(action)\n",
    "        eps_info.append(obs)\n",
    "        if(dones):\n",
    "            obs = env.reset()\n",
    "    game_info.append(eps_info)\n",
    "env.close()\n",
    "states = np.array(game_info).astype(np.float32)"
   ]
  },
  {
   "cell_type": "code",
   "execution_count": 177,
   "metadata": {},
   "outputs": [],
   "source": [
    "df1 = load_csv(\"../data/player1_state_info.csv\")\n",
    "df2 = load_csv(\"../data/player2_state_info.csv\")\n",
    "p1 = df1.drop(columns=['Unnamed: 0', 'match', 'turn'])\n",
    "p2 = df2.drop(columns=['Unnamed: 0', 'match', 'turn'])"
   ]
  },
  {
   "cell_type": "code",
   "execution_count": 181,
   "metadata": {},
   "outputs": [
    {
     "data": {
      "text/plain": [
       "PCA(copy=True, iterated_power='auto', n_components=28, random_state=None,\n",
       "  svd_solver='auto', tol=0.0, whiten=True)"
      ]
     },
     "execution_count": 181,
     "metadata": {},
     "output_type": "execute_result"
    }
   ],
   "source": [
    "experts = np.concatenate((p1,p2), axis=1)\n",
    "pca = PCA(28, whiten=True)\n",
    "pca.fit(experts)"
   ]
  },
  {
   "cell_type": "code",
   "execution_count": 182,
   "metadata": {},
   "outputs": [],
   "source": [
    "obs = pca.transform(experts)"
   ]
  },
  {
   "cell_type": "code",
   "execution_count": 183,
   "metadata": {},
   "outputs": [
    {
     "name": "stdout",
     "output_type": "stream",
     "text": [
      "8.656189682795493\n",
      "-7.404335777141228\n"
     ]
    }
   ],
   "source": [
    "print(np.max(obs))\n",
    "print(np.min(obs))"
   ]
  },
  {
   "cell_type": "code",
   "execution_count": 191,
   "metadata": {},
   "outputs": [
    {
     "data": {
      "text/plain": [
       "<matplotlib.collections.PathCollection at 0x1c529defd0>"
      ]
     },
     "execution_count": 191,
     "metadata": {},
     "output_type": "execute_result"
    },
    {
     "data": {
      "image/png": "[encoded data removed]",
      "text/plain": [
       "<matplotlib.figure.Figure at 0x1c51c58860>"
      ]
     },
     "metadata": {},
     "output_type": "display_data"
    }
   ],
   "source": [
    "scores = []\n",
    "generated = np.concatenate([eps for eps in states])\n",
    "for n in np.arange(2,100,2):\n",
    "    pca = PCA(n, whiten=True)\n",
    "    pca.fit(generated)\n",
    "    scores.append(pca.score(generated))\n",
    "plt.scatter(np.arange(2,100,2), scores)"
   ]
  },
  {
   "cell_type": "code",
   "execution_count": 197,
   "metadata": {},
   "outputs": [
    {
     "name": "stdout",
     "output_type": "stream",
     "text": [
      "Best score: 385.49026  with n = 42\n"
     ]
    }
   ],
   "source": [
    "print(\"Best score:\",scores[np.argmax(scores)], \" with n =\", np.arange(2,100,2)[np.argmax(scores)])"
   ]
  },
  {
   "cell_type": "code",
   "execution_count": 208,
   "metadata": {},
   "outputs": [
    {
     "name": "stderr",
     "output_type": "stream",
     "text": [
      "         1    -1727010.7613             +nan\n",
      "         2    -1183475.1264     +543535.6350\n",
      "         3     -993790.1633     +189684.9630\n",
      "         4     -898175.1726      +95614.9907\n",
      "         5     -870322.0031      +27853.1695\n",
      "         6     -857050.1043      +13271.8988\n",
      "         7     -847779.8715       +9270.2328\n",
      "         8     -837451.8071      +10328.0645\n",
      "         9     -823005.4606      +14446.3464\n",
      "        10     -807194.5689      +15810.8917\n",
      "        11     -793278.5168      +13916.0521\n",
      "        12     -780192.6251      +13085.8917\n",
      "        13     -765103.0487      +15089.5764\n",
      "        14     -750576.2575      +14526.7912\n",
      "        15     -740142.9617      +10433.2958\n",
      "        16     -730570.2954       +9572.6662\n",
      "        17     -724457.2416       +6113.0538\n",
      "        18     -719753.6887       +4703.5529\n",
      "        19     -716868.3120       +2885.3768\n",
      "        20     -715390.6996       +1477.6124\n",
      "        21     -714837.1126        +553.5870\n",
      "        22     -714319.0380        +518.0746\n",
      "        23     -713792.0009        +527.0371\n",
      "        24     -713252.2131        +539.7878\n",
      "        25     -712944.9893        +307.2238\n",
      "        26     -712726.2026        +218.7866\n",
      "        27     -712427.9370        +298.2656\n",
      "        28     -711527.8800        +900.0570\n",
      "        29     -709384.5401       +2143.3399\n",
      "        30     -707563.7422       +1820.7979\n",
      "        31     -705175.0481       +2388.6940\n",
      "        32     -703690.7085       +1484.3396\n",
      "        33     -702886.2131        +804.4955\n",
      "        34     -702584.5791        +301.6339\n",
      "        35     -702068.9414        +515.6377\n",
      "        36     -701002.9205       +1066.0210\n",
      "        37     -699732.6237       +1270.2967\n",
      "        38     -698606.3433       +1126.2805\n",
      "        39     -694688.3776       +3917.9656\n",
      "        40     -690416.6160       +4271.7616\n",
      "        41     -690253.2853        +163.3307\n",
      "        42     -690241.9183         +11.3669\n",
      "        43     -690236.6952          +5.2231\n",
      "        44     -690234.8847          +1.8105\n",
      "        45     -690234.3482          +0.5365\n"
     ]
    },
    {
     "name": "stdout",
     "output_type": "stream",
     "text": [
      "Loading a model without an environment, this model cannot be trained until it has a valid environment.\n"
     ]
    },
    {
     "name": "stderr",
     "output_type": "stream",
     "text": [
      "         1      -91145.9825             +nan\n",
      "         2      -73874.3415      +17271.6410\n",
      "         3      -59833.5842      +14040.7573\n",
      "         4      -52816.1144       +7017.4698\n",
      "         5      -51334.5868       +1481.5276\n",
      "         6      -50699.6177        +634.9691\n",
      "         7      -50107.6771        +591.9406\n",
      "         8      -49886.8854        +220.7917\n",
      "         9      -49803.7420         +83.1434\n",
      "        10      -49747.7039         +56.0381\n",
      "        11      -49690.1681         +57.5358\n",
      "        12      -49613.4779         +76.6902\n",
      "        13      -49559.9422         +53.5358\n",
      "        14      -49530.8031         +29.1390\n",
      "        15      -49492.9658         +37.8373\n",
      "        16      -49462.7016         +30.2642\n",
      "        17      -49426.1254         +36.5762\n",
      "        18      -49364.9734         +61.1520\n",
      "        19      -49271.6950         +93.2784\n",
      "        20      -49108.8371        +162.8579\n",
      "        21      -48586.5371        +522.3001\n",
      "        22      -46988.0138       +1598.5233\n",
      "        23      -46652.6093        +335.4045\n",
      "        24      -46639.7294         +12.8799\n",
      "        25      -46629.1752         +10.5542\n",
      "        26      -46627.7571          +1.4180\n",
      "        27      -46626.1791          +1.5780\n",
      "        28      -46624.6473          +1.5318\n",
      "        29      -46623.7627          +0.8847\n"
     ]
    }
   ],
   "source": [
    "metric, hmm, pca_matches = stochastic_measure(MODEL, ENV_DICT)"
   ]
  },
  {
   "cell_type": "code",
   "execution_count": 209,
   "metadata": {},
   "outputs": [
    {
     "data": {
      "text/plain": [
       "5.1838191990229385e-19"
      ]
     },
     "execution_count": 209,
     "metadata": {},
     "output_type": "execute_result"
    }
   ],
   "source": [
    "ENV_DICT = \"../models/tight_range_continuous_actions_configs_dict.pkl\"\n",
    "MODEL = \"../models/tight_range_continuous_actions.pkl\"\n",
    "metric, hmm, pca_matches = stochastic_measure(MODEL, ENV_DICT)"
   ]
  },
  {
   "cell_type": "code",
   "execution_count": null,
   "metadata": {},
   "outputs": [],
   "source": []
  }
 ],
 "metadata": {
  "kernelspec": {
   "display_name": "Python 3",
   "language": "python",
   "name": "python3"
  },
  "language_info": {
   "codemirror_mode": {
    "name": "ipython",
    "version": 3
   },
   "file_extension": ".py",
   "mimetype": "text/x-python",
   "name": "python",
   "nbconvert_exporter": "python",
   "pygments_lexer": "ipython3",
   "version": "3.6.4"
  }
 },
 "nbformat": 4,
 "nbformat_minor": 4
}
