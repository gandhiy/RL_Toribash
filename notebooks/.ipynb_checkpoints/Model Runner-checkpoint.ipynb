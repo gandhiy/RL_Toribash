{
 "cells": [
  {
   "cell_type": "markdown",
   "metadata": {},
   "source": [
    "# Model Runner\n",
    "\n",
    "This notebook allows for someone to visualize a trained model on the Toribash environment. Set the ENV_ID variable to be exactly the one used to specify which environment trained the model to run. Set the ENV_DICT variable to the path of the environment dictionary that was saved along with the model. Set MODEL to the path of the model to load and visualize. Run the cells below the variables to then open the environment, load the model, initialize the environment with the proper arguments, and then visualize model predicted actions. "
   ]
  },
  {
   "cell_type": "code",
   "execution_count": 4,
   "metadata": {},
   "outputs": [],
   "source": [
    "import gym\n",
    "import sys\n",
    "import pickle\n",
    "import numpy as np\n",
    "import pandas as pd\n",
    "from torille import ToribashControl\n",
    "from time import sleep\n",
    "sys.path.append(\"..\")\n",
    "import gym_Toribash\n",
    "from utils.tools import *\n",
    "\n",
    "from stable_baselines import PPO1"
   ]
  },
  {
   "cell_type": "markdown",
   "metadata": {},
   "source": [
    "**Configure Model and Saved Configs Path**"
   ]
  },
  {
   "cell_type": "code",
   "execution_count": 2,
   "metadata": {},
   "outputs": [],
   "source": [
    "ENV_DICT = \"../models/testing_some_updates_configs_dict.pkl\"\n",
    "MODEL = \"../models/testing_some_updates.pkl\""
   ]
  },
  {
   "cell_type": "markdown",
   "metadata": {},
   "source": [
    "**Get environment ID**"
   ]
  },
  {
   "cell_type": "code",
   "execution_count": 5,
   "metadata": {},
   "outputs": [],
   "source": [
    "with open(ENV_DICT, 'rb') as f:\n",
    "    env_dict = pickle.load(f)\n",
    "env_id = env_dict['env_name']"
   ]
  },
  {
   "cell_type": "markdown",
   "metadata": {},
   "source": [
    "**Create environment and load dictionary**"
   ]
  },
  {
   "cell_type": "code",
   "execution_count": 6,
   "metadata": {},
   "outputs": [
    {
     "name": "stderr",
     "output_type": "stream",
     "text": [
      "WARNING: Logging before flag parsing goes to stderr.\n",
      "W1128 13:47:48.607560 4604614080 deprecation_wrapper.py:119] From /anaconda3/lib/python3.6/site-packages/stable_baselines/common/tf_util.py:98: The name tf.ConfigProto is deprecated. Please use tf.compat.v1.ConfigProto instead.\n",
      "\n",
      "W1128 13:47:48.609996 4604614080 deprecation_wrapper.py:119] From /anaconda3/lib/python3.6/site-packages/stable_baselines/common/tf_util.py:107: The name tf.Session is deprecated. Please use tf.compat.v1.Session instead.\n",
      "\n",
      "W1128 13:47:48.611246 4604614080 deprecation_wrapper.py:119] From /anaconda3/lib/python3.6/site-packages/stable_baselines/common/policies.py:115: The name tf.variable_scope is deprecated. Please use tf.compat.v1.variable_scope instead.\n",
      "\n",
      "W1128 13:47:48.616242 4604614080 deprecation_wrapper.py:119] From /anaconda3/lib/python3.6/site-packages/stable_baselines/common/input.py:25: The name tf.placeholder is deprecated. Please use tf.compat.v1.placeholder instead.\n",
      "\n",
      "W1128 13:47:48.619356 4604614080 deprecation.py:323] From /anaconda3/lib/python3.6/site-packages/stable_baselines/common/policies.py:562: flatten (from tensorflow.python.layers.core) is deprecated and will be removed in a future version.\n",
      "Instructions for updating:\n",
      "Use keras.layers.flatten instead.\n"
     ]
    },
    {
     "name": "stdout",
     "output_type": "stream",
     "text": [
      "Loading a model without an environment, this model cannot be trained until it has a valid environment.\n"
     ]
    },
    {
     "name": "stderr",
     "output_type": "stream",
     "text": [
      "W1128 13:47:48.843457 4604614080 deprecation_wrapper.py:119] From /anaconda3/lib/python3.6/site-packages/stable_baselines/a2c/utils.py:156: The name tf.get_variable is deprecated. Please use tf.compat.v1.get_variable instead.\n",
      "\n",
      "W1128 13:47:49.220376 4604614080 deprecation_wrapper.py:119] From /anaconda3/lib/python3.6/site-packages/stable_baselines/ppo1/pposgd_simple.py:145: The name tf.summary.scalar is deprecated. Please use tf.compat.v1.summary.scalar instead.\n",
      "\n",
      "W1128 13:47:49.354895 4604614080 deprecation_wrapper.py:119] From /anaconda3/lib/python3.6/site-packages/stable_baselines/ppo1/pposgd_simple.py:183: The name tf.summary.merge_all is deprecated. Please use tf.compat.v1.summary.merge_all instead.\n",
      "\n",
      "W1128 13:47:49.395184 4604614080 deprecation.py:323] From /anaconda3/lib/python3.6/site-packages/tensorflow/python/ops/math_grad.py:1250: add_dispatch_support.<locals>.wrapper (from tensorflow.python.ops.array_ops) is deprecated and will be removed in a future version.\n",
      "Instructions for updating:\n",
      "Use tf.where in 2.0, which has the same broadcast rule as np.where\n"
     ]
    }
   ],
   "source": [
    "env = gym.make(env_id)\n",
    "env.init(**env_dict)\n",
    "model = PPO1.load(MODEL)\n",
    "env.set_draw_game(True)\n",
    "obs = env.reset()"
   ]
  },
  {
   "cell_type": "markdown",
   "metadata": {},
   "source": [
    "**Load model, and run environment output**"
   ]
  },
  {
   "cell_type": "code",
   "execution_count": 7,
   "metadata": {},
   "outputs": [],
   "source": [
    "states = []\n",
    "for n_games in range(5):\n",
    "    sleep(5)\n",
    "    for _ in range(50): # number of games = steps//50 i.e. 150//50 is 3 games\n",
    "        action, _states = model.predict(obs)\n",
    "        obs, rewards, dones, info = env.step(action)\n",
    "        states.append(obs)\n",
    "        if(dones):\n",
    "            obs = env.reset()\n",
    "env.close()"
   ]
  },
  {
   "cell_type": "code",
   "execution_count": null,
   "metadata": {},
   "outputs": [],
   "source": []
  }
 ],
 "metadata": {
  "kernelspec": {
   "display_name": "Python 3",
   "language": "python",
   "name": "python3"
  },
  "language_info": {
   "codemirror_mode": {
    "name": "ipython",
    "version": 3
   },
   "file_extension": ".py",
   "mimetype": "text/x-python",
   "name": "python",
   "nbconvert_exporter": "python",
   "pygments_lexer": "ipython3",
   "version": "3.6.4"
  }
 },
 "nbformat": 4,
 "nbformat_minor": 4
}
