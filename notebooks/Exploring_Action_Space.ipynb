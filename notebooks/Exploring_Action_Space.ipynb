{
 "cells": [
  {
   "cell_type": "code",
   "execution_count": 2,
   "metadata": {},
   "outputs": [],
   "source": [
    "%load_ext autoreload\n",
    "%autoreload 2"
   ]
  },
  {
   "cell_type": "markdown",
   "metadata": {},
   "source": [
    "# Building Action Spaces\n",
    "\n",
    "In the base implementation, the actions of the agent are all learned. Meaning, the RL agent has to learn which of the 4 possible actions to choose from for all 22 possible joints. This puts a burden on the learning stack and limits the agent's ability to learn. One way we can offset that is by building action spaces that are linear. Essentially, instead of trying to learn which of the $4^{22}$ possible configurations is the best to deploy, we can significantly limit the number of possible actions. Here we demonstrate a few different ways to pick actions. These are all methods that can be found in `utils.action_space.action_space`. There, we can also find a method to view all actions chosen by a given method!"
   ]
  },
  {
   "cell_type": "code",
   "execution_count": 3,
   "metadata": {},
   "outputs": [],
   "source": [
    "# some useful libraries\n",
    "import sys\n",
    "import numpy as np\n",
    "import pandas as pd\n",
    "import matplotlib.pyplot as plt\n",
    "\n",
    "sys.path.append(\"..\")\n",
    "plt.style.use(\"ggplot\")\n",
    "\n",
    "from scipy import stats\n",
    "from collections import Counter\n",
    "from utils.tools import *\n",
    "from utils.viz_tools import visuals\n",
    "from utils.action_space import action_space, watch_actions"
   ]
  },
  {
   "cell_type": "code",
   "execution_count": 4,
   "metadata": {},
   "outputs": [],
   "source": [
    "# some useful data to have loaded\n",
    "df = load_csv(\"../data/player1_state_info.csv\")\n",
    "vis = visuals(\"../data/player1_state_info.csv\")"
   ]
  },
  {
   "cell_type": "code",
   "execution_count": 4,
   "metadata": {},
   "outputs": [],
   "source": [
    "builder = action_space(\"../data/player1_state_info.csv\")"
   ]
  },
  {
   "cell_type": "markdown",
   "metadata": {},
   "source": [
    "## Random Actions:\n",
    "\n",
    "This builds a dictionary of N random action arrays. This serves as a baseline for testing against other action spaces. "
   ]
  },
  {
   "cell_type": "code",
   "execution_count": 5,
   "metadata": {},
   "outputs": [
    {
     "data": {
      "text/plain": [
       "{0: [3, 4, 2, 2, 4, 2, 1, 1, 1, 1, 1, 4, 1, 3, 1, 2, 2, 3, 4, 1, 2, 3],\n",
       " 1: [4, 4, 3, 4, 3, 3, 3, 1, 2, 3, 4, 2, 1, 4, 4, 4, 2, 2, 1, 4, 2, 1],\n",
       " 2: [1, 3, 1, 1, 3, 1, 2, 2, 2, 2, 4, 4, 2, 1, 2, 2, 4, 1, 3, 2, 2, 2],\n",
       " 3: [1, 4, 3, 4, 4, 1, 2, 3, 4, 2, 3, 4, 2, 4, 2, 3, 1, 4, 3, 4, 3, 3],\n",
       " 4: [1, 1, 2, 3, 2, 1, 3, 3, 4, 4, 2, 4, 2, 1, 3, 4, 4, 3, 4, 4, 4, 3],\n",
       " 5: [3, 3, 4, 1, 1, 2, 1, 2, 1, 4, 2, 4, 3, 1, 4, 2, 1, 2, 3, 4, 4, 4],\n",
       " 6: [3, 4, 4, 4, 1, 3, 3, 2, 4, 2, 3, 3, 4, 4, 1, 2, 3, 4, 4, 1, 1, 4],\n",
       " 7: [2, 3, 4, 1, 2, 3, 4, 1, 4, 3, 1, 4, 3, 1, 1, 1, 2, 3, 3, 4, 1, 2],\n",
       " 8: [2, 2, 4, 4, 3, 3, 4, 2, 1, 3, 2, 3, 2, 3, 2, 1, 1, 4, 1, 1, 1, 1],\n",
       " 9: [3, 2, 4, 3, 4, 3, 2, 4, 4, 4, 2, 1, 3, 2, 2, 3, 4, 2, 3, 4, 2, 4]}"
      ]
     },
     "execution_count": 5,
     "metadata": {},
     "output_type": "execute_result"
    }
   ],
   "source": [
    "random_actions = builder.random_actions(10)\n",
    "random_actions"
   ]
  },
  {
   "cell_type": "code",
   "execution_count": null,
   "metadata": {},
   "outputs": [],
   "source": [
    "watch_actions(random_actions, pause=3)"
   ]
  },
  {
   "cell_type": "markdown",
   "metadata": {},
   "source": [
    "## Frequency\n",
    "\n",
    "One possible way to gather information about possible actions is to just pick the N most actions "
   ]
  },
  {
   "cell_type": "code",
   "execution_count": 39,
   "metadata": {},
   "outputs": [
    {
     "data": {
      "text/plain": [
       "{0: [3, 3, 3, 3, 3, 2, 3, 3, 3, 3, 3, 3, 3, 3, 3, 3, 2, 3, 3, 3, 3, 3],\n",
       " 1: [4, 4, 4, 4, 4, 2, 4, 4, 4, 4, 4, 4, 4, 4, 4, 4, 2, 4, 4, 4, 4, 4],\n",
       " 2: [3, 2, 3, 4, 3, 2, 3, 3, 1, 1, 3, 3, 2, 3, 4, 1, 2, 2, 3, 3, 3, 3],\n",
       " 3: [3, 3, 3, 3, 3, 3, 3, 3, 3, 3, 3, 3, 3, 3, 3, 3, 3, 3, 3, 3, 3, 3],\n",
       " 4: [2, 4, 4, 4, 4, 2, 4, 4, 4, 4, 4, 4, 4, 2, 4, 4, 2, 2, 3, 4, 4, 4],\n",
       " 5: [1, 2, 1, 1, 4, 2, 3, 3, 1, 1, 4, 1, 1, 4, 4, 1, 2, 3, 3, 2, 3, 4],\n",
       " 6: [4, 4, 4, 4, 4, 2, 4, 4, 4, 4, 4, 4, 4, 4, 4, 4, 2, 2, 4, 4, 4, 4],\n",
       " 7: [1, 3, 2, 2, 1, 2, 1, 1, 3, 1, 1, 3, 2, 2, 2, 1, 2, 1, 1, 3, 1, 1],\n",
       " 8: [1, 3, 3, 3, 3, 2, 3, 3, 3, 3, 3, 2, 1, 1, 3, 3, 2, 3, 3, 4, 4, 3],\n",
       " 9: [3, 3, 4, 4, 3, 2, 3, 3, 4, 4, 3, 3, 3, 3, 4, 3, 2, 3, 3, 3, 3, 3]}"
      ]
     },
     "execution_count": 39,
     "metadata": {},
     "output_type": "execute_result"
    }
   ],
   "source": [
    "freq_actions = builder.frequency_builder(10)\n",
    "freq_actions"
   ]
  },
  {
   "cell_type": "code",
   "execution_count": null,
   "metadata": {},
   "outputs": [],
   "source": [
    "watch_actions(freq_actions)"
   ]
  },
  {
   "cell_type": "markdown",
   "metadata": {},
   "source": [
    "## Temporally Weighted Frequency\n",
    "\n",
    "While this is a useful technique for getting some actions, what we end up getting is a good list of starting moves. Because the first move is very similar among many different matches, the most frequent matches are going to be the ones done the earliest. To help aleviate this, let's weight the frequency of a move by its count and by how far into the match it is played. Futhermore, let's weight moves near the center of the match to get interesting actions to learn from!"
   ]
  },
  {
   "cell_type": "code",
   "execution_count": 38,
   "metadata": {},
   "outputs": [
    {
     "data": {
      "text/plain": [
       "{0: [3, 3, 3, 3, 3, 3, 4, 3, 3, 3, 3, 3, 3, 3, 3, 3, 3, 4, 3, 3, 3, 3],\n",
       " 1: [3, 3, 4, 4, 3, 3, 3, 3, 3, 3, 3, 3, 3, 2, 3, 3, 3, 3, 3, 1, 3, 3],\n",
       " 2: [3, 3, 3, 3, 1, 3, 3, 3, 3, 3, 3, 3, 3, 3, 3, 3, 3, 3, 3, 3, 3, 3],\n",
       " 3: [3, 2, 3, 3, 4, 3, 3, 4, 1, 4, 3, 2, 3, 3, 4, 3, 3, 2, 3, 2, 2, 2],\n",
       " 4: [3, 3, 3, 3, 3, 3, 3, 3, 3, 3, 3, 3, 3, 3, 4, 3, 3, 3, 3, 1, 4, 4],\n",
       " 5: [3, 3, 3, 3, 3, 3, 3, 3, 3, 3, 3, 3, 3, 3, 2, 3, 3, 3, 3, 3, 3, 3],\n",
       " 6: [3, 3, 3, 3, 3, 3, 3, 3, 3, 3, 3, 3, 3, 3, 3, 4, 3, 4, 4, 3, 3, 2],\n",
       " 7: [3, 3, 1, 4, 3, 3, 4, 3, 3, 4, 3, 1, 3, 1, 4, 4, 3, 4, 4, 3, 1, 3],\n",
       " 8: [3, 3, 2, 4, 2, 3, 4, 4, 3, 4, 3, 1, 3, 1, 3, 1, 3, 4, 4, 2, 1, 4],\n",
       " 9: [3, 3, 2, 3, 4, 3, 3, 4, 3, 3, 3, 3, 3, 1, 3, 1, 3, 3, 4, 2, 1, 2]}"
      ]
     },
     "execution_count": 38,
     "metadata": {},
     "output_type": "execute_result"
    }
   ],
   "source": [
    "time_actions = builder.temporal_frequency_builder(10)\n",
    "time_actions"
   ]
  },
  {
   "cell_type": "code",
   "execution_count": 41,
   "metadata": {},
   "outputs": [],
   "source": [
    "watch_actions(time_actions, pause=3)"
   ]
  },
  {
   "cell_type": "markdown",
   "metadata": {},
   "source": [
    "## Gridded Actions\n",
    "While the previous 3 methods are discrete and simplify the action space, we can maybe learn the entire action space by changing the domain we are working in. Rather than trying to rank all possible actions or regress to a specific action, let's try to condense the action space to a grid. \n",
    "\n",
    "This action space uses two continuous inputs and bins these values on a 2D grid. Based on which bin the (x,y) point falls in determines what action the agent takes. The plot below shows what it would look like if the agent model outputs the coordinate (4.75, 6.8). This lands the point in bin 75 and therefore take the 75th action. If this is a list of 100 possible actions, then just take the 75th action. "
   ]
  },
  {
   "cell_type": "code",
   "execution_count": 7,
   "metadata": {},
   "outputs": [
    {
     "data": {
      "image/png": "[encoded data removed]",
      "text/plain": [
       "<matplotlib.figure.Figure at 0x1a21de4630>"
      ]
     },
     "metadata": {},
     "output_type": "display_data"
    }
   ],
   "source": [
    "plt.figure(figsize=(9,9))\n",
    "for i in range(11):\n",
    "    plt.axhline(y=i)\n",
    "    plt.axvline(x=i)\n",
    "plt.plot(4.75, 6.8, 'ko')\n",
    "plt.text(5, 7.5, \"(4.75, 6.8)\",fontsize=14)\n",
    "plt.tight_layout()\n",
    "plt.savefig('../../images/grids.png');"
   ]
  },
  {
   "cell_type": "markdown",
   "metadata": {},
   "source": [
    "Because we are dealing with particularly large values, we don't want to iterate through all possible permutations every single time. Thus we first calculate the bin number using action_space.bin_val(x,y,T) and change that value into base 4 and use that value to create a new action array. Let's take a look at an example by assuming we were in bin 10000! "
   ]
  },
  {
   "cell_type": "code",
   "execution_count": 26,
   "metadata": {},
   "outputs": [
    {
     "name": "stdout",
     "output_type": "stream",
     "text": [
      "The decimal value 10000 in base 4 is 2130100\n",
      "If we split up the base_4 value by ints (and add one to get appropriate input), then we get [3, 2, 4, 1, 2, 1, 1]\n"
     ]
    }
   ],
   "source": [
    "base_10 = 10000\n",
    "base_4 = np.base_repr(base_10, base=4)\n",
    "tmp = [int(c) + 1 for c in base_4]\n",
    "print(\"The decimal value {} in base 4 is {}\".format(base_10, base_4))\n",
    "print(\"If we split up the base_4 value by ints (and add one to get appropriate input), then we get {}\".format(tmp))"
   ]
  },
  {
   "cell_type": "code",
   "execution_count": 22,
   "metadata": {},
   "outputs": [
    {
     "name": "stdout",
     "output_type": "stream",
     "text": [
      "Because our action array must be a 22 vector, then we can use some simple Python list manipulation to get a useful array. Let's assume [3] is our dummy value. \n",
      " [3, 2, 4, 1, 2, 1, 1, 3, 3, 3, 3, 3, 3, 3, 3, 3, 3, 3, 3, 3, 3, 3]\n"
     ]
    }
   ],
   "source": [
    "print(\"Because our action array must be a 22 vector, then we can use some simple Python list manipulation to get a useful array. Let's assume [3] is our dummy value. \\n\", tmp + [3]*(22 - len(tmp)))"
   ]
  },
  {
   "cell_type": "markdown",
   "metadata": {},
   "source": [
    "Now we've gone from just 2 continuous values to a 22 vector that can be used in the environment without iterating through 10,000 permutations."
   ]
  },
  {
   "cell_type": "code",
   "execution_count": null,
   "metadata": {},
   "outputs": [],
   "source": []
  }
 ],
 "metadata": {
  "kernelspec": {
   "display_name": "Python 3",
   "language": "python",
   "name": "python3"
  },
  "language_info": {
   "codemirror_mode": {
    "name": "ipython",
    "version": 3
   },
   "file_extension": ".py",
   "mimetype": "text/x-python",
   "name": "python",
   "nbconvert_exporter": "python",
   "pygments_lexer": "ipython3",
   "version": "3.6.4"
  }
 },
 "nbformat": 4,
 "nbformat_minor": 4
}
