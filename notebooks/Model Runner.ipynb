{
 "cells": [
  {
   "cell_type": "code",
   "execution_count": 1,
   "metadata": {},
   "outputs": [],
   "source": [
    "%load_ext autoreload\n",
    "%autoreload 2"
   ]
  },
  {
   "cell_type": "markdown",
   "metadata": {},
   "source": [
    "# Model Runner\n",
    "\n",
    "This notebook allows for visualization of a trained model on the Toribash environment. Set the `configs` variable to the path of the environment dictionary that was saved along with the model. Set `model` to the path of the model to load and visualize. Run the cells below the variables to then open the environment, load the model, initialize the environment with the proper arguments, and then visualize model predicted actions. Finally, run the stochastic metric and see how similar the model was to the expert matches. Values closer to 1 represent a higher similarity. "
   ]
  },
  {
   "cell_type": "code",
   "execution_count": 2,
   "metadata": {},
   "outputs": [],
   "source": [
    "import gym\n",
    "import sys\n",
    "import pickle\n",
    "import numpy as np\n",
    "import pandas as pd\n",
    "\n",
    "sys.path.append(\"..\")\n",
    "import gym_Toribash\n",
    "\n",
    "\n",
    "from time import sleep\n",
    "from torille import ToribashControl\n",
    "from utils.tools import *\n",
    "from utils.sto_sim import Stochastic_Similarity\n",
    "from stable_baselines import PPO1"
   ]
  },
  {
   "cell_type": "markdown",
   "metadata": {},
   "source": [
    "**Configure Model and Saved Configs Path**"
   ]
  },
  {
   "cell_type": "code",
   "execution_count": null,
   "metadata": {},
   "outputs": [],
   "source": [
    "sim = Stochastic_Similarity(None, None)"
   ]
  },
  {
   "cell_type": "code",
   "execution_count": 49,
   "metadata": {},
   "outputs": [],
   "source": [
    "model_name = 'random_2'\n",
    "configs = \"../models/{}/configs_dict.pkl\".format(model_name)\n",
    "model = \"../models/{}/best_model.pkl\".format(model_name)\n",
    "number_of_episodes = 2\n",
    "pause_before = 0.5\n",
    "pause_per_game = 0.5"
   ]
  },
  {
   "cell_type": "markdown",
   "metadata": {},
   "source": [
    "**Load model, and run environment output**"
   ]
  },
  {
   "cell_type": "code",
   "execution_count": 50,
   "metadata": {},
   "outputs": [
    {
     "name": "stdout",
     "output_type": "stream",
     "text": [
      "Loading a model without an environment, this model cannot be trained until it has a valid environment.\n"
     ]
    }
   ],
   "source": [
    "with open(configs, 'rb') as f:\n",
    "    env_dict = pickle.load(f)\n",
    "env_id = env_dict['env_name']\n",
    "env = gym.make(env_id)\n",
    "env.settings.set('matchframes', 1000)\n",
    "env.init(**env_dict)\n",
    "env_model = PPO1.load(model)\n",
    "env.set_draw_game(True)\n",
    "obs = env.reset()\n",
    "states = []\n",
    "sleep(pause_before)\n",
    "for n_games in range(number_of_episodes):\n",
    "    sleep(pause_per_game)\n",
    "    for _ in range(100):\n",
    "        action, _states = env_model.predict(obs)\n",
    "        obs, rewards, dones, info = env.step(action)\n",
    "        states.append(info['state'])\n",
    "        if(dones):\n",
    "            obs = env.reset()\n",
    "env.close()"
   ]
  },
  {
   "cell_type": "markdown",
   "metadata": {},
   "source": [
    "**Calculate the log similarity score**"
   ]
  },
  {
   "cell_type": "code",
   "execution_count": 34,
   "metadata": {},
   "outputs": [
    {
     "name": "stdout",
     "output_type": "stream",
     "text": [
      "Loading a model without an environment, this model cannot be trained until it has a valid environment.\n",
      "Loading a model without an environment, this model cannot be trained until it has a valid environment.\n",
      "The similarity score is 0.1372\n"
     ]
    }
   ],
   "source": [
    "sim.model = model\n",
    "sim.configs = configs\n",
    "number_generated_examples = 50\n",
    "number_testing_samples = 25\n",
    "score = sim.similarity_score(number_generated_examples, number_testing_samples)\n",
    "print(\"The similarity score is {:.4f}\".format(score))"
   ]
  }
 ],
 "metadata": {
  "kernelspec": {
   "display_name": "Python 3",
   "language": "python",
   "name": "python3"
  },
  "language_info": {
   "codemirror_mode": {
    "name": "ipython",
    "version": 3
   },
   "file_extension": ".py",
   "mimetype": "text/x-python",
   "name": "python",
   "nbconvert_exporter": "python",
   "pygments_lexer": "ipython3",
   "version": "3.6.4"
  }
 },
 "nbformat": 4,
 "nbformat_minor": 4
}
