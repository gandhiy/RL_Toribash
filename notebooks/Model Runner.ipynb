{
 "cells": [
  {
   "cell_type": "markdown",
   "metadata": {},
   "source": [
    "# Model Runner\n",
    "\n",
    "This notebook allows for someone to visualize a trained model on the Toribash environment. Set the ENV_ID variable to be exactly the one used to specify which environment trained the model to run. Set the ENV_DICT variable to the path of the environment dictionary that was saved along with the model. Set MODEL to the path of the model to load and visualize. Run the cells below the variables to then open the environment, load the model, initialize the environment with the proper arguments, and then visualize model predicted actions. "
   ]
  },
  {
   "cell_type": "code",
   "execution_count": 1,
   "metadata": {},
   "outputs": [],
   "source": [
    "import gym\n",
    "import sys\n",
    "import pickle\n",
    "import numpy as np\n",
    "import pandas as pd\n",
    "from torille import ToribashControl\n",
    "from time import sleep\n",
    "sys.path.append(\"..\")\n",
    "import gym_Toribash\n",
    "from utils.tools import *\n",
    "\n",
    "from stable_baselines import PPO1"
   ]
  },
  {
   "cell_type": "markdown",
   "metadata": {},
   "source": [
    "**Configure Model and Saved Configs Path**"
   ]
  },
  {
   "cell_type": "code",
   "execution_count": 6,
   "metadata": {},
   "outputs": [],
   "source": [
    "ENV_DICT = \"../models/cont_curriculum_reward_configs_dict.pkl\"\n",
    "MODEL = \"../models/cont_curriculum_reward.pkl\""
   ]
  },
  {
   "cell_type": "markdown",
   "metadata": {},
   "source": [
    "**Get environment ID**"
   ]
  },
  {
   "cell_type": "code",
   "execution_count": 7,
   "metadata": {},
   "outputs": [],
   "source": [
    "with open(ENV_DICT, 'rb') as f:\n",
    "    env_dict = pickle.load(f)\n",
    "env_id = env_dict['env_name']"
   ]
  },
  {
   "cell_type": "markdown",
   "metadata": {},
   "source": [
    "**Create environment and load dictionary**"
   ]
  },
  {
   "cell_type": "code",
   "execution_count": 8,
   "metadata": {},
   "outputs": [
    {
     "name": "stdout",
     "output_type": "stream",
     "text": [
      "Loading a model without an environment, this model cannot be trained until it has a valid environment.\n"
     ]
    }
   ],
   "source": [
    "env = gym.make(env_id)\n",
    "env.init(**env_dict)\n",
    "model = PPO1.load(MODEL)\n",
    "env.set_draw_game(True)\n",
    "obs = env.reset()"
   ]
  },
  {
   "cell_type": "markdown",
   "metadata": {},
   "source": [
    "**Load model, and run environment output**"
   ]
  },
  {
   "cell_type": "code",
   "execution_count": 9,
   "metadata": {},
   "outputs": [],
   "source": [
    "states = []\n",
    "for n_games in range(5):\n",
    "    sleep(5)\n",
    "    for _ in range(50): # number of games = steps//50 i.e. 150//50 is 3 games\n",
    "        action, _states = model.predict(obs)\n",
    "        obs, rewards, dones, info = env.step(action)\n",
    "        states.append(obs)\n",
    "        if(dones):\n",
    "            obs = env.reset()\n",
    "env.close()"
   ]
  },
  {
   "cell_type": "code",
   "execution_count": null,
   "metadata": {},
   "outputs": [],
   "source": []
  }
 ],
 "metadata": {
  "kernelspec": {
   "display_name": "Python 3",
   "language": "python",
   "name": "python3"
  },
  "language_info": {
   "codemirror_mode": {
    "name": "ipython",
    "version": 3
   },
   "file_extension": ".py",
   "mimetype": "text/x-python",
   "name": "python",
   "nbconvert_exporter": "python",
   "pygments_lexer": "ipython3",
   "version": "3.6.4"
  }
 },
 "nbformat": 4,
 "nbformat_minor": 4
}
